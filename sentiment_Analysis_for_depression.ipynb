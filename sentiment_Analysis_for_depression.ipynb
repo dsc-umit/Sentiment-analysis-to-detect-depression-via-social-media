{
  "nbformat": 4,
  "nbformat_minor": 0,
  "metadata": {
    "colab": {
      "name": "WinterCodessipynb",
      "provenance": [],
      "collapsed_sections": [],
      "authorship_tag": "ABX9TyOu1ClPYAm+HvlOUNykKHZA"
    },
    "kernelspec": {
      "name": "python3",
      "display_name": "Python 3"
    }
  },
  "cells": [
    {
      "cell_type": "code",
      "metadata": {
        "id": "lFEesSquu_0I"
      },
      "source": [
        "from sklearn.ensemble import RandomForestClassifier\n",
        "import pandas as pd\n",
        "import re\n",
        "from sklearn.model_selection import train_test_split\n",
        "from sklearn.utils import shuffle\n",
        "from sklearn.feature_extraction.text import TfidfVectorizer\n",
        "from sklearn import naive_bayes\n",
        "from sklearn.metrics import roc_auc_score\n",
        "from sklearn.metrics import accuracy_score\n",
        "from sklearn.pipeline import Pipeline\n",
        "from sklearn.model_selection import validation_curve\n",
        "from sklearn import metrics\n",
        "import matplotlib.pyplot as plt\n",
        "import numpy as np\n",
        "from sklearn.model_selection import GridSearchCV \n",
        "from sklearn.model_selection import RandomizedSearchCV\n",
        "import pickle\n",
        "import bz2\n",
        "from sklearn.svm import LinearSVC\n",
        "from sklearn.linear_model import LogisticRegression\n",
        "from sklearn.naive_bayes import GaussianNB\n",
        "from sklearn.naive_bayes import BernoulliNB\n",
        "from sklearn.naive_bayes import MultinomialNB\n",
        "from sklearn.ensemble import GradientBoostingClassifier\n",
        "from sklearn.tree import DecisionTreeClassifier\n",
        "from sklearn.neighbors import KNeighborsClassifier\n",
        "from xgboost import XGBClassifier\n",
        "from sklearn.linear_model import SGDClassifier\n",
        "from sklearn.ensemble import RandomForestClassifier\n",
        "from sklearn.preprocessing import LabelEncoder\n",
        "from sklearn.gaussian_process import GaussianProcessClassifier\n",
        "from keras.models import Model\n",
        "from wordcloud import WordCloud"
      ],
      "execution_count": 55,
      "outputs": []
    },
    {
      "cell_type": "markdown",
      "metadata": {
        "id": "lajOIQnOhjoB"
      },
      "source": [
        "# **Importing Datasets and Data Preprocessing**"
      ]
    },
    {
      "cell_type": "code",
      "metadata": {
        "colab": {
          "base_uri": "https://localhost:8080/"
        },
        "id": "qKVR3PGjUI9w",
        "outputId": "bd4aec3f-ca8b-463e-ec1a-c8e7ed0cab65"
      },
      "source": [
        "url = \"https://raw.githubusercontent.com/eddieir/Depression_detection_using_Twitter_post/master/depressive_tweets_processed.csv\"\r\n",
        "df= pd.read_csv(url, sep = '|', header = None, usecols = range(0,9))\r\n",
        "print(df)"
      ],
      "execution_count": 2,
      "outputs": [
        {
          "output_type": "stream",
          "text": [
            "                       0           1         2  ...   6     7     8\n",
            "0     989292962323615744  2018-04-25  23:59:57  ...   1     0     3\n",
            "1     989292959844663296  2018-04-25  23:59:56  ...   1     0     2\n",
            "2     989292951716155392  2018-04-25  23:59:54  ...   0     0     0\n",
            "3     989292873664393218  2018-04-25  23:59:35  ...   1     0     0\n",
            "4     989292856119472128  2018-04-25  23:59:31  ...   0     0     0\n",
            "...                  ...         ...       ...  ...  ..   ...   ...\n",
            "2340  989036568781389830  2018-04-25  07:01:08  ...  28  1200  4681\n",
            "2341  989036542898397185  2018-04-25  07:01:01  ...   0     0     2\n",
            "2342  989036488162766848  2018-04-25  07:00:48  ...   0     0     4\n",
            "2343  989036488158572544  2018-04-25  07:00:48  ...   0     0     0\n",
            "2344  989036462271287297  2018-04-25  07:00:42  ...   0     0     0\n",
            "\n",
            "[2345 rows x 9 columns]\n"
          ],
          "name": "stdout"
        }
      ]
    },
    {
      "cell_type": "code",
      "metadata": {
        "id": "H0mTkalwUQGT"
      },
      "source": [
        "df = df[5]"
      ],
      "execution_count": 3,
      "outputs": []
    },
    {
      "cell_type": "markdown",
      "metadata": {
        "id": "9Ll9jlkaibdb"
      },
      "source": [
        "**Removing Hashtags, Emoji, Image URLs, Hyperlinks, and Unwanted Punctuations**"
      ]
    },
    {
      "cell_type": "code",
      "metadata": {
        "id": "gPnScSbTUVVq"
      },
      "source": [
        "def clean_tweets(tweets):\r\n",
        "    cleaned_tweets = []\r\n",
        "    for tweet in tweets:\r\n",
        "        tweet = str(tweet)\r\n",
        "        # if url links then dont append to avoid news articles\r\n",
        "        # also check tweet length, save those > 10 (length of word \"depression\")\r\n",
        "        if re.match(\"(\\w+:\\/\\/\\S+)\", tweet) == None and len(tweet) > 10:\r\n",
        "            # remove hashtag, @mention, emoji and image URLs\r\n",
        "            tweet = ' '.join(\r\n",
        "                re.sub(\"(@[A-Za-z0-9]+)|(\\#[A-Za-z0-9]+)|(<Emoji:.>)|(pic\\.twitter\\.com\\/.)\", \" \", tweet).split())\r\n",
        "        \r\n",
        "            tweet = re.sub(r\"http\\S+\", \"\", tweet)\r\n",
        "\r\n",
        "            # remove punctuation\r\n",
        "            tweet = ' '.join(re.sub(\"([^0-9A-Za-z \\t])\", \" \", tweet).split())\r\n",
        "\r\n",
        "            cleaned_tweets.append(tweet)\r\n",
        "\r\n",
        "    return cleaned_tweets"
      ],
      "execution_count": 4,
      "outputs": []
    },
    {
      "cell_type": "code",
      "metadata": {
        "id": "j2qC7P7vUYPY"
      },
      "source": [
        "df = clean_tweets(df)"
      ],
      "execution_count": null,
      "outputs": []
    },
    {
      "cell_type": "code",
      "metadata": {
        "id": "dV630I1LUbOF"
      },
      "source": [
        "tweets = pd.DataFrame(df)"
      ],
      "execution_count": 6,
      "outputs": []
    },
    {
      "cell_type": "code",
      "metadata": {
        "colab": {
          "base_uri": "https://localhost:8080/",
          "height": 402
        },
        "id": "soO_GCz1U1WO",
        "outputId": "677878af-1f42-47e3-e117-ebadc2dead49"
      },
      "source": [
        "tweets"
      ],
      "execution_count": 7,
      "outputs": [
        {
          "output_type": "execute_result",
          "data": {
            "text/html": [
              "<div>\n",
              "<style scoped>\n",
              "    .dataframe tbody tr th:only-of-type {\n",
              "        vertical-align: middle;\n",
              "    }\n",
              "\n",
              "    .dataframe tbody tr th {\n",
              "        vertical-align: top;\n",
              "    }\n",
              "\n",
              "    .dataframe thead th {\n",
              "        text-align: right;\n",
              "    }\n",
              "</style>\n",
              "<table border=\"1\" class=\"dataframe\">\n",
              "  <thead>\n",
              "    <tr style=\"text-align: right;\">\n",
              "      <th></th>\n",
              "      <th>0</th>\n",
              "    </tr>\n",
              "  </thead>\n",
              "  <tbody>\n",
              "    <tr>\n",
              "      <th>0</th>\n",
              "      <td>The lack of this understanding is a small but ...</td>\n",
              "    </tr>\n",
              "    <tr>\n",
              "      <th>1</th>\n",
              "      <td>i just told my parents about my depression and...</td>\n",
              "    </tr>\n",
              "    <tr>\n",
              "      <th>2</th>\n",
              "      <td>depression is something i don t speak about ev...</td>\n",
              "    </tr>\n",
              "    <tr>\n",
              "      <th>3</th>\n",
              "      <td>Made myself a tortilla filled with pb j My dep...</td>\n",
              "    </tr>\n",
              "    <tr>\n",
              "      <th>4</th>\n",
              "      <td>I am gonna need depression meds soon these rai...</td>\n",
              "    </tr>\n",
              "    <tr>\n",
              "      <th>...</th>\n",
              "      <td>...</td>\n",
              "    </tr>\n",
              "    <tr>\n",
              "      <th>2303</th>\n",
              "      <td>Many sufferers of depression aren t sad they f...</td>\n",
              "    </tr>\n",
              "    <tr>\n",
              "      <th>2304</th>\n",
              "      <td>No Depression by G Herbo is my mood from now o...</td>\n",
              "    </tr>\n",
              "    <tr>\n",
              "      <th>2305</th>\n",
              "      <td>What do you do when depression succumbs the br...</td>\n",
              "    </tr>\n",
              "    <tr>\n",
              "      <th>2306</th>\n",
              "      <td>Ketamine Nasal Spray Shows Promise Against Dep...</td>\n",
              "    </tr>\n",
              "    <tr>\n",
              "      <th>2307</th>\n",
              "      <td>dont mistake a bad day with depression everyon...</td>\n",
              "    </tr>\n",
              "  </tbody>\n",
              "</table>\n",
              "<p>2308 rows × 1 columns</p>\n",
              "</div>"
            ],
            "text/plain": [
              "                                                      0\n",
              "0     The lack of this understanding is a small but ...\n",
              "1     i just told my parents about my depression and...\n",
              "2     depression is something i don t speak about ev...\n",
              "3     Made myself a tortilla filled with pb j My dep...\n",
              "4     I am gonna need depression meds soon these rai...\n",
              "...                                                 ...\n",
              "2303  Many sufferers of depression aren t sad they f...\n",
              "2304  No Depression by G Herbo is my mood from now o...\n",
              "2305  What do you do when depression succumbs the br...\n",
              "2306  Ketamine Nasal Spray Shows Promise Against Dep...\n",
              "2307  dont mistake a bad day with depression everyon...\n",
              "\n",
              "[2308 rows x 1 columns]"
            ]
          },
          "metadata": {
            "tags": []
          },
          "execution_count": 7
        }
      ]
    },
    {
      "cell_type": "code",
      "metadata": {
        "id": "Y3fixs9TU2om"
      },
      "source": [
        "tweets['Label'] = 'Depression'"
      ],
      "execution_count": 8,
      "outputs": []
    },
    {
      "cell_type": "code",
      "metadata": {
        "colab": {
          "resources": {
            "http://localhost:8080/nbextensions/google.colab/files.js": {
              "data": "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",
              "ok": true,
              "headers": [
                [
                  "content-type",
                  "application/javascript"
                ]
              ],
              "status": 200,
              "status_text": ""
            }
          },
          "base_uri": "https://localhost:8080/",
          "height": 73
        },
        "id": "cIB7pW4SU8oW",
        "outputId": "1aac60da-993f-45f2-c71d-b88d17663ad2"
      },
      "source": [
        "from google.colab import files\r\n",
        "uploaded = files.upload()"
      ],
      "execution_count": 13,
      "outputs": [
        {
          "output_type": "display_data",
          "data": {
            "text/html": [
              "\n",
              "     <input type=\"file\" id=\"files-9b9fc68f-973a-4002-9393-5db18a03c16b\" name=\"files[]\" multiple disabled\n",
              "        style=\"border:none\" />\n",
              "     <output id=\"result-9b9fc68f-973a-4002-9393-5db18a03c16b\">\n",
              "      Upload widget is only available when the cell has been executed in the\n",
              "      current browser session. Please rerun this cell to enable.\n",
              "      </output>\n",
              "      <script src=\"/nbextensions/google.colab/files.js\"></script> "
            ],
            "text/plain": [
              "<IPython.core.display.HTML object>"
            ]
          },
          "metadata": {
            "tags": []
          }
        },
        {
          "output_type": "stream",
          "text": [
            "Saving processedPositive.csv to processedPositive (1).csv\n"
          ],
          "name": "stdout"
        }
      ]
    },
    {
      "cell_type": "code",
      "metadata": {
        "id": "UjcHNPcXWqKN"
      },
      "source": [
        "import io\r\n",
        "tweetsP = pd.read_csv(io.BytesIO(uploaded['processedPositive.csv']))"
      ],
      "execution_count": 15,
      "outputs": []
    },
    {
      "cell_type": "code",
      "metadata": {
        "colab": {
          "base_uri": "https://localhost:8080/",
          "height": 365
        },
        "id": "i6EmVV5kW9z8",
        "outputId": "b9848474-de22-4bba-ace6-8b842179bd38"
      },
      "source": [
        "tweetsP"
      ],
      "execution_count": 16,
      "outputs": [
        {
          "output_type": "execute_result",
          "data": {
            "text/html": [
              "<div>\n",
              "<style scoped>\n",
              "    .dataframe tbody tr th:only-of-type {\n",
              "        vertical-align: middle;\n",
              "    }\n",
              "\n",
              "    .dataframe tbody tr th {\n",
              "        vertical-align: top;\n",
              "    }\n",
              "\n",
              "    .dataframe thead th {\n",
              "        text-align: right;\n",
              "    }\n",
              "</style>\n",
              "<table border=\"1\" class=\"dataframe\">\n",
              "  <thead>\n",
              "    <tr style=\"text-align: right;\">\n",
              "      <th></th>\n",
              "      <th>An inspiration in all aspects: Fashion</th>\n",
              "      <th>fitness</th>\n",
              "      <th>beauty and personality. :)KISSES TheFashionIcon</th>\n",
              "      <th>Apka Apna Awam Ka Channel Frankline Tv Aam Admi Production Please Visit Or Likes  Share :)Fb Page :...</th>\n",
              "      <th>Beautiful album from  the greatest unsung guitar genius of our time - and I've met the great backstage</th>\n",
              "      <th>Good luck to Rich riding for great project in this Sunday. Can you donate?</th>\n",
              "      <th>Omg he... kissed... him crying with joy</th>\n",
              "      <th>happy anniv ming and papi!!!!! love love happy</th>\n",
              "      <th>thanks happy</th>\n",
              "      <th>C'mon Tweeps</th>\n",
              "      <th>Join  vote for the singer! Do spread the word. :D</th>\n",
              "      <th>Thanks for the great review! smile</th>\n",
              "      <th>Yay another art raffle! Everything you need to know is in the picture :D</th>\n",
              "      <th>Hello I hope you visit Luxor its amazing city in Egypt pleas check</th>\n",
              "      <th>We got a Vive tracker in the office and our intern</th>\n",
              "      <th>went to work.Don't get too excited</th>\n",
              "      <th>this isn't</th>\n",
              "      <th>Take a look at favourites.io You can do this and more happy</th>\n",
              "      <th>Go back to school for music! I think I will in time happy</th>\n",
              "      <th>Sixth spot not applicable Team! Higher pa! :)KISSES TheFashionIcon</th>\n",
              "      <th>thanks for being top influencers in my community last week happy</th>\n",
              "      <th>Share the love: thanks for being top new followers this week happy  Want this?</th>\n",
              "      <th>retweet this tweet if you want your to be included in the nhc scrapbook!! i'll be making something out of all of the usern</th>\n",
              "      <th>Happy 420 happy  pass it to your followers!</th>\n",
              "      <th>Who wants some good vibes? Watch this on YouTube or TV100 application now for FREE happy</th>\n",
              "      <th>Great to work with you too such a lovely place! Thank you for havin</th>\n",
              "      <th>Nothing is ever as it seems. What looks bad today</th>\n",
              "      <th>will be a blessing tomorrow happy  Keep your faith stirred up each day!</th>\n",
              "      <th>Mmmmmmmm love naughty wives smile</th>\n",
              "      <th>You deserve a vacation happy</th>\n",
              "      <th>Never known how hard it is until last to  days how to resist temptation to enter politics debates on social media happy  stood firm so far</th>\n",
              "      <th>Some summer salad inspiration for the BBQ smile</th>\n",
              "      <th>Hey thanks for being top new followers this week! Much appreciated happy  Want this ?</th>\n",
              "      <th>you should post this offer on this website happy</th>\n",
              "      <th>thanks for being top new followers - have a great week happy</th>\n",
              "      <th>I prefer it to sharm - enjoy it happy  Gouna 20km away is also quite nice - honestly anywhere away from crazy cairo is</th>\n",
              "      <th>Sixth spot not applicable Team! Higher pa! :)KISSES TheFashionIcon.1</th>\n",
              "      <th>Hey thanks for being top new followers this week! Much appreciated happy</th>\n",
              "      <th>thanks for the recent follow. Much appreciated happy</th>\n",
              "      <th>Thanks Lala.. Much needed happy</th>\n",
              "      <th>...</th>\n",
              "      <th>And you were there happy</th>\n",
              "      <th>haha! Very good tweet mate happy  heard your a big boy account! The King shit happensould we say happy  any chance of a shit happens</th>\n",
              "      <th>Thanks for the recent follow Happy to connect happy  have a great Thursday. Want this?</th>\n",
              "      <th>I appreciate the sentiment but I couldn't do that. happy</th>\n",
              "      <th>Younger. Softer. crying with joy</th>\n",
              "      <th>Happy many days</th>\n",
              "      <th>months and years of bonding and happiness  family MCLISSE StarMu</th>\n",
              "      <th>Thanks for the recent follow Happy to connect happy  have a great Thursday..30</th>\n",
              "      <th>I'm happy   happy</th>\n",
              "      <th>Yes! With subtitles only happy</th>\n",
              "      <th>Thanks for the recent follow Happy to connect happy  have a great Wednesday. Want this</th>\n",
              "      <th>co</th>\n",
              "      <th>Thanks for the recent follow Happy to connect happy  have a great Thursday. Get it.2</th>\n",
              "      <th>Thanks for the recent follow Happy to connect happy  have a great Thursday..31</th>\n",
              "      <th>thank you! happy</th>\n",
              "      <th>That would be a great trick happy.9</th>\n",
              "      <th>thanks for the recent follow. Much appreciated happy   Want this ?.4</th>\n",
              "      <th>Thanks for the recent follow Happy to connect happy  have a great Thursday. Want it.4</th>\n",
              "      <th>[bot] i'm not perfect happy</th>\n",
              "      <th>Retweet if you are with us? Kaway kaway family :)MCLISSE StarMusicIfWeFallinLove</th>\n",
              "      <th>We have a few breweries in the UK too.... smile</th>\n",
              "      <th>Thanks for the recent follow Happy to connect happy  have a great Thursday. Want this?.1</th>\n",
              "      <th>Thanks for the recent follow Happy to connect happy  have a great Thursday..32</th>\n",
              "      <th>I've had it since December  my hairs stopped snapping off! It's made a massive difference! Get the</th>\n",
              "      <th>Be happy</th>\n",
              "      <th>love happy</th>\n",
              "      <th>That would be a great trick happy.10</th>\n",
              "      <th>Do It Like It's Legal sweaters  ..More designs available at</th>\n",
              "      <th>Great groove to this tune by and .. Thinking in Rewind</th>\n",
              "      <th>Mrs King is excited to work with students today! Check out this cool classroom shape! Lots of math in here happy</th>\n",
              "      <th>$ES_F $SPY  Bulls are just relentless  happy   Some setups I like today</th>\n",
              "      <th>Thanks for the recent follow Happy to connect happy  have a great Thursday..33</th>\n",
              "      <th>Thanks for the recent follow Happy to connect happy  have a great Thursday.  Want this.5</th>\n",
              "      <th>Thanks for the recent follow Happy to connect happy  have a great Thursday. Want this.7</th>\n",
              "      <th>you know that the problem still exist :D</th>\n",
              "      <th>Thanks for the recent follow Happy to connect happy  have a great Thursday. Get this.1</th>\n",
              "      <th>- top engaged members this week happy</th>\n",
              "      <th>ngam to  weeks left for cadet pilot exam crying with joy</th>\n",
              "      <th>Great! You're welcome Josh happy  ^Adam</th>\n",
              "      <th>Sixth spot not applicable Team! Higher pa! :)KISSES TheFashionIcon.4</th>\n",
              "    </tr>\n",
              "  </thead>\n",
              "  <tbody>\n",
              "  </tbody>\n",
              "</table>\n",
              "<p>0 rows × 1186 columns</p>\n",
              "</div>"
            ],
            "text/plain": [
              "Empty DataFrame\n",
              "Columns: [An inspiration in all aspects: Fashion,  fitness,  beauty and personality. :)KISSES TheFashionIcon, Apka Apna Awam Ka Channel Frankline Tv Aam Admi Production Please Visit Or Likes  Share :)Fb Page :..., Beautiful album from  the greatest unsung guitar genius of our time - and I've met the great backstage, Good luck to Rich riding for great project in this Sunday. Can you donate?, Omg he... kissed... him crying with joy, happy anniv ming and papi!!!!! love love happy, thanks happy, C'mon Tweeps,  Join  vote for the singer! Do spread the word. :D, Thanks for the great review! smile, Yay another art raffle! Everything you need to know is in the picture :D, Hello I hope you visit Luxor its amazing city in Egypt pleas check, We got a Vive tracker in the office and our intern,  went to work.Don't get too excited,  this isn't, Take a look at favourites.io You can do this and more happy, Go back to school for music! I think I will in time happy, Sixth spot not applicable Team! Higher pa! :)KISSES TheFashionIcon, thanks for being top influencers in my community last week happy, Share the love: thanks for being top new followers this week happy  Want this?, retweet this tweet if you want your to be included in the nhc scrapbook!! i'll be making something out of all of the usern, Happy 420 happy  pass it to your followers!, Who wants some good vibes? Watch this on YouTube or TV100 application now for FREE happy, Great to work with you too such a lovely place! Thank you for havin, Nothing is ever as it seems. What looks bad today,  will be a blessing tomorrow happy  Keep your faith stirred up each day!, Mmmmmmmm love naughty wives smile, You deserve a vacation happy, Never known how hard it is until last to  days how to resist temptation to enter politics debates on social media happy  stood firm so far, Some summer salad inspiration for the BBQ smile, Hey thanks for being top new followers this week! Much appreciated happy  Want this ?, you should post this offer on this website happy, thanks for being top new followers - have a great week happy, I prefer it to sharm - enjoy it happy  Gouna 20km away is also quite nice - honestly anywhere away from crazy cairo is, Sixth spot not applicable Team! Higher pa! :)KISSES TheFashionIcon.1, Hey thanks for being top new followers this week! Much appreciated happy, thanks for the recent follow. Much appreciated happy, Thanks Lala.. Much needed happy, Thanks for connecting We are passionate about  - hope you like our tweets happy, hey,  keep smiling happy, Said it yesterday... happy, We love that our bloggers love us so much happy  Thank you for such an amazing review The Perfect Glasses h, only way to make sense of those crazy edge cases is the idea of sharing revenue was offensive,  rather, Gentle reminder on our TP guidelines happy  please read and spread. Thank you. happy KISSES TheFashionIcon, keep being you,  cheeky :D, smile  So true. For someone who was being recognised for her contribution to fashion,  she might have dressed a bit better., sounds like a lot of fun :D I like it, Oh,  Jin was spotted at Everland today. Nice to see them having a break after the US tour happy, There was nothing religious in it. is calling out sexism. I don't think I need to spell out my stand, Go back to school for music! I think I will in time happy.1, Theres only one thing I want to change about you . Your Last Name happy  ALDUBOnly, welcome brother  happy, Thanks for the recent follow Happy to connect happy  have a great Thursday., SONE who cant stream at Genie!You CAN stream for TY at Genie! We are still sharing some Genie IDs. If you want it,  DM us happy  S, Spending time with dogs or other animals is great at helping you to relax and de-stress. Great idea happy, My new video for happy  I hope you like ithappy, Got This interview poppin happy  $$$$$, Love your tweetability! We'd like to reach out to with an opportunity! Could you hit us with your email happy, Thanks for the recent follow Happy to connect happy  have a great Thursday..1, uss,  I'll DM you half naked pictures happy, Evet happy, Well,  I hope it doesn't last too long and you at least get to enjoy the weekend. And happy birthday again happy, Excited about event next week in Bangalore!  come happy, Want to win a pet chick happy  Simply follow  retweet for your chance to win! Winners will be selected Sunday 23rd. Go, Top retweeters this week,  Thank you happy, dope!! that's a cool word. finally down with the hip young millenial memers smile, 2nd Cousin Vlad !!!!! maybe thats a message from the Hockey G, Thanks for the recent follow Happy to connect happy  have a great Thursday. (Want this?, Earlier happy, Just win at weekend and it will be a late gift,  ok? :D, we finally got jinyoung to wipe it for jaebum himself but their precious son blocks it for the world to witness it, Here is question 18! Make sure to use in all your tweets  replies happy, And this credit also goes to Ik happy, My other accounts:them both or get rekt! :D, Hey thanks for being top new followers this week! Much appreciated happy.1, Les videre happy, clauditte, my friend is such an egg, congratulations David! Well done Mrs V! Welcome Jessica! happy, have you tried these new hacks?! **TRYING DUMB LIFE HACKS 17**, Keep tweeting team. Higher! Thank you for the efforts. :)KISSES TheFashionIcon, here are some very happy boys to brighten up your day happy, A huge thank you to all the within the Social Work  Care Sectors! Keep up the great work happy, Lunchtime with Flinthook! This game has so much personality :D, Ministers of PMLN are happy like those students who never studied for exams  luckily exams got delayed. They'll still ha, :D When mom is a bit tired, What we did after the climax shot happy, Miss Petite happy Thursday happy   looking forward to the weekend?, ...]\n",
              "Index: []\n",
              "\n",
              "[0 rows x 1186 columns]"
            ]
          },
          "metadata": {
            "tags": []
          },
          "execution_count": 16
        }
      ]
    },
    {
      "cell_type": "code",
      "metadata": {
        "id": "vttOahTLXFD6"
      },
      "source": [
        "positiveTweets = tweetsP.transpose()"
      ],
      "execution_count": 17,
      "outputs": []
    },
    {
      "cell_type": "code",
      "metadata": {
        "id": "R3oPOHpmXOUo"
      },
      "source": [
        "positiveTweets['Label'] = 'No Depression'"
      ],
      "execution_count": 18,
      "outputs": []
    },
    {
      "cell_type": "code",
      "metadata": {
        "colab": {
          "base_uri": "https://localhost:8080/",
          "height": 402
        },
        "id": "gmbnyq9zXfR-",
        "outputId": "7b2d71b0-849e-4414-da5d-8c1f5638c0fd"
      },
      "source": [
        "positiveTweets"
      ],
      "execution_count": 19,
      "outputs": [
        {
          "output_type": "execute_result",
          "data": {
            "text/html": [
              "<div>\n",
              "<style scoped>\n",
              "    .dataframe tbody tr th:only-of-type {\n",
              "        vertical-align: middle;\n",
              "    }\n",
              "\n",
              "    .dataframe tbody tr th {\n",
              "        vertical-align: top;\n",
              "    }\n",
              "\n",
              "    .dataframe thead th {\n",
              "        text-align: right;\n",
              "    }\n",
              "</style>\n",
              "<table border=\"1\" class=\"dataframe\">\n",
              "  <thead>\n",
              "    <tr style=\"text-align: right;\">\n",
              "      <th></th>\n",
              "      <th>Label</th>\n",
              "    </tr>\n",
              "  </thead>\n",
              "  <tbody>\n",
              "    <tr>\n",
              "      <th>An inspiration in all aspects: Fashion</th>\n",
              "      <td>No Depression</td>\n",
              "    </tr>\n",
              "    <tr>\n",
              "      <th>fitness</th>\n",
              "      <td>No Depression</td>\n",
              "    </tr>\n",
              "    <tr>\n",
              "      <th>beauty and personality. :)KISSES TheFashionIcon</th>\n",
              "      <td>No Depression</td>\n",
              "    </tr>\n",
              "    <tr>\n",
              "      <th>Apka Apna Awam Ka Channel Frankline Tv Aam Admi Production Please Visit Or Likes  Share :)Fb Page :...</th>\n",
              "      <td>No Depression</td>\n",
              "    </tr>\n",
              "    <tr>\n",
              "      <th>Beautiful album from  the greatest unsung guitar genius of our time - and I've met the great backstage</th>\n",
              "      <td>No Depression</td>\n",
              "    </tr>\n",
              "    <tr>\n",
              "      <th>...</th>\n",
              "      <td>...</td>\n",
              "    </tr>\n",
              "    <tr>\n",
              "      <th>Thanks for the recent follow Happy to connect happy  have a great Thursday. Get this.1</th>\n",
              "      <td>No Depression</td>\n",
              "    </tr>\n",
              "    <tr>\n",
              "      <th>- top engaged members this week happy</th>\n",
              "      <td>No Depression</td>\n",
              "    </tr>\n",
              "    <tr>\n",
              "      <th>ngam to  weeks left for cadet pilot exam crying with joy</th>\n",
              "      <td>No Depression</td>\n",
              "    </tr>\n",
              "    <tr>\n",
              "      <th>Great! You're welcome Josh happy  ^Adam</th>\n",
              "      <td>No Depression</td>\n",
              "    </tr>\n",
              "    <tr>\n",
              "      <th>Sixth spot not applicable Team! Higher pa! :)KISSES TheFashionIcon.4</th>\n",
              "      <td>No Depression</td>\n",
              "    </tr>\n",
              "  </tbody>\n",
              "</table>\n",
              "<p>1186 rows × 1 columns</p>\n",
              "</div>"
            ],
            "text/plain": [
              "                                                            Label\n",
              "An inspiration in all aspects: Fashion              No Depression\n",
              " fitness                                            No Depression\n",
              " beauty and personality. :)KISSES TheFashionIcon    No Depression\n",
              "Apka Apna Awam Ka Channel Frankline Tv Aam Admi...  No Depression\n",
              "Beautiful album from  the greatest unsung guita...  No Depression\n",
              "...                                                           ...\n",
              "Thanks for the recent follow Happy to connect h...  No Depression\n",
              "- top engaged members this week happy               No Depression\n",
              "ngam to  weeks left for cadet pilot exam crying...  No Depression\n",
              "Great! You're welcome Josh happy  ^Adam             No Depression\n",
              "Sixth spot not applicable Team! Higher pa! :)KI...  No Depression\n",
              "\n",
              "[1186 rows x 1 columns]"
            ]
          },
          "metadata": {
            "tags": []
          },
          "execution_count": 19
        }
      ]
    },
    {
      "cell_type": "code",
      "metadata": {
        "colab": {
          "resources": {
            "http://localhost:8080/nbextensions/google.colab/files.js": {
              "data": "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",
              "ok": true,
              "headers": [
                [
                  "content-type",
                  "application/javascript"
                ]
              ],
              "status": 200,
              "status_text": ""
            }
          },
          "base_uri": "https://localhost:8080/",
          "height": 73
        },
        "id": "tF0CM_NNWzTH",
        "outputId": "05a76ff1-11e2-4362-bc53-543e88f96c04"
      },
      "source": [
        "from google.colab import files\r\n",
        "uploaded = files.upload()"
      ],
      "execution_count": 20,
      "outputs": [
        {
          "output_type": "display_data",
          "data": {
            "text/html": [
              "\n",
              "     <input type=\"file\" id=\"files-e15ab70d-e465-4b4b-aa8a-1d2b04f07f59\" name=\"files[]\" multiple disabled\n",
              "        style=\"border:none\" />\n",
              "     <output id=\"result-e15ab70d-e465-4b4b-aa8a-1d2b04f07f59\">\n",
              "      Upload widget is only available when the cell has been executed in the\n",
              "      current browser session. Please rerun this cell to enable.\n",
              "      </output>\n",
              "      <script src=\"/nbextensions/google.colab/files.js\"></script> "
            ],
            "text/plain": [
              "<IPython.core.display.HTML object>"
            ]
          },
          "metadata": {
            "tags": []
          }
        },
        {
          "output_type": "stream",
          "text": [
            "Saving processedNeutral.csv to processedNeutral.csv\n"
          ],
          "name": "stdout"
        }
      ]
    },
    {
      "cell_type": "code",
      "metadata": {
        "id": "phmuPvXPWx6v"
      },
      "source": [
        "import io\r\n",
        "tweetsN = pd.read_csv(io.BytesIO(uploaded['processedNeutral.csv']))"
      ],
      "execution_count": 21,
      "outputs": []
    },
    {
      "cell_type": "code",
      "metadata": {
        "id": "z2Mb-57HXtok"
      },
      "source": [
        "neutralTweets = tweetsN.transpose()\r\n",
        "neutralTweets['Label'] = 'No Depression'"
      ],
      "execution_count": 24,
      "outputs": []
    },
    {
      "cell_type": "code",
      "metadata": {
        "colab": {
          "base_uri": "https://localhost:8080/",
          "height": 402
        },
        "id": "-iYnrDtZX78O",
        "outputId": "7347f773-9b15-43e4-c77a-ccd7436d5b17"
      },
      "source": [
        "neutralTweets"
      ],
      "execution_count": 25,
      "outputs": [
        {
          "output_type": "execute_result",
          "data": {
            "text/html": [
              "<div>\n",
              "<style scoped>\n",
              "    .dataframe tbody tr th:only-of-type {\n",
              "        vertical-align: middle;\n",
              "    }\n",
              "\n",
              "    .dataframe tbody tr th {\n",
              "        vertical-align: top;\n",
              "    }\n",
              "\n",
              "    .dataframe thead th {\n",
              "        text-align: right;\n",
              "    }\n",
              "</style>\n",
              "<table border=\"1\" class=\"dataframe\">\n",
              "  <thead>\n",
              "    <tr style=\"text-align: right;\">\n",
              "      <th></th>\n",
              "      <th>Label</th>\n",
              "    </tr>\n",
              "  </thead>\n",
              "  <tbody>\n",
              "    <tr>\n",
              "      <th>Pak PM survives removal scare</th>\n",
              "      <td>No Depression</td>\n",
              "    </tr>\n",
              "    <tr>\n",
              "      <th>but court orders further probe into corruption charge.</th>\n",
              "      <td>No Depression</td>\n",
              "    </tr>\n",
              "    <tr>\n",
              "      <th>Supreme Court quashes criminal complaint against cricketer for allegedly depicting himself as on magazine cover.</th>\n",
              "      <td>No Depression</td>\n",
              "    </tr>\n",
              "    <tr>\n",
              "      <th>Art of Living's fights back over Yamuna floodplain damage</th>\n",
              "      <td>No Depression</td>\n",
              "    </tr>\n",
              "    <tr>\n",
              "      <th>livid.</th>\n",
              "      <td>No Depression</td>\n",
              "    </tr>\n",
              "    <tr>\n",
              "      <th>...</th>\n",
              "      <td>...</td>\n",
              "    </tr>\n",
              "    <tr>\n",
              "      <th>IDFC official Vikram Limaye</th>\n",
              "      <td>No Depression</td>\n",
              "    </tr>\n",
              "    <tr>\n",
              "      <th>former captain Diana Edulji are others in panel to run</th>\n",
              "      <td>No Depression</td>\n",
              "    </tr>\n",
              "    <tr>\n",
              "      <th>Supreme Court names former CAG as head of 4-member panel of administrators to run 1/3</th>\n",
              "      <td>No Depression</td>\n",
              "    </tr>\n",
              "    <tr>\n",
              "      <th>Court summons CM suspended BJP MP as accused in criminal defamation plea by</th>\n",
              "      <td>No Depression</td>\n",
              "    </tr>\n",
              "    <tr>\n",
              "      <th>Amulya Patnaik has been appointed new Delhi police commissioner. Patnaik is a 1985 AGMUT cadre IPS officer.</th>\n",
              "      <td>No Depression</td>\n",
              "    </tr>\n",
              "  </tbody>\n",
              "</table>\n",
              "<p>1570 rows × 1 columns</p>\n",
              "</div>"
            ],
            "text/plain": [
              "                                                            Label\n",
              "Pak PM survives removal scare                       No Depression\n",
              " but court orders further probe into corruption...  No Depression\n",
              "Supreme Court quashes criminal complaint agains...  No Depression\n",
              "Art of Living's fights back over Yamuna floodpl...  No Depression\n",
              " livid.                                             No Depression\n",
              "...                                                           ...\n",
              " IDFC official Vikram Limaye                        No Depression\n",
              " former captain Diana Edulji are others in pane...  No Depression\n",
              "Supreme Court names former CAG as head of 4-mem...  No Depression\n",
              "Court summons CM suspended BJP MP as accused in...  No Depression\n",
              "Amulya Patnaik has been appointed new Delhi pol...  No Depression\n",
              "\n",
              "[1570 rows x 1 columns]"
            ]
          },
          "metadata": {
            "tags": []
          },
          "execution_count": 25
        }
      ]
    },
    {
      "cell_type": "code",
      "metadata": {
        "id": "EHNHHrHwYN7U"
      },
      "source": [
        "d_train, d_test = train_test_split(tweets, test_size=0.30)\r\n",
        "p_train, p_test = train_test_split(positiveTweets, test_size=0.30)\r\n",
        "n_train, n_test = train_test_split(neutralTweets, test_size=0.30)"
      ],
      "execution_count": 28,
      "outputs": []
    },
    {
      "cell_type": "code",
      "metadata": {
        "id": "M_0AgcBKYz2y"
      },
      "source": [
        "train = pd.concat([d_train, p_train, n_train], sort = True)\r\n",
        "test = pd.concat([d_test, p_test, n_test], sort = True)"
      ],
      "execution_count": 29,
      "outputs": []
    },
    {
      "cell_type": "code",
      "metadata": {
        "colab": {
          "resources": {
            "http://localhost:8080/nbextensions/google.colab/files.js": {
              "data": "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",
              "ok": true,
              "headers": [
                [
                  "content-type",
                  "application/javascript"
                ]
              ],
              "status": 200,
              "status_text": ""
            }
          },
          "base_uri": "https://localhost:8080/",
          "height": 73
        },
        "id": "PnfwbvpsvdQY",
        "outputId": "ea3b3f0e-9504-4391-c965-9432c1174daa"
      },
      "source": [
        "from google.colab import files\r\n",
        "uploaded = files.upload()"
      ],
      "execution_count": 31,
      "outputs": [
        {
          "output_type": "display_data",
          "data": {
            "text/html": [
              "\n",
              "     <input type=\"file\" id=\"files-8dfec156-f131-4f63-a59c-f38051cda0dd\" name=\"files[]\" multiple disabled\n",
              "        style=\"border:none\" />\n",
              "     <output id=\"result-8dfec156-f131-4f63-a59c-f38051cda0dd\">\n",
              "      Upload widget is only available when the cell has been executed in the\n",
              "      current browser session. Please rerun this cell to enable.\n",
              "      </output>\n",
              "      <script src=\"/nbextensions/google.colab/files.js\"></script> "
            ],
            "text/plain": [
              "<IPython.core.display.HTML object>"
            ]
          },
          "metadata": {
            "tags": []
          }
        },
        {
          "output_type": "stream",
          "text": [
            "Saving trainlDataset.csv to trainlDataset.csv\n"
          ],
          "name": "stdout"
        }
      ]
    },
    {
      "cell_type": "code",
      "metadata": {
        "id": "ZHvSFiGDvprc"
      },
      "source": [
        "import io\r\n",
        "train = pd.read_csv(io.BytesIO(uploaded['trainlDataset.csv']))"
      ],
      "execution_count": 32,
      "outputs": []
    },
    {
      "cell_type": "code",
      "metadata": {
        "colab": {
          "resources": {
            "http://localhost:8080/nbextensions/google.colab/files.js": {
              "data": "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",
              "ok": true,
              "headers": [
                [
                  "content-type",
                  "application/javascript"
                ]
              ],
              "status": 200,
              "status_text": ""
            }
          },
          "base_uri": "https://localhost:8080/",
          "height": 73
        },
        "id": "LWJQzd8avr87",
        "outputId": "ac72364c-7108-4a60-8c4b-e7173f8d8095"
      },
      "source": [
        "from google.colab import files\r\n",
        "uploaded = files.upload()"
      ],
      "execution_count": 33,
      "outputs": [
        {
          "output_type": "display_data",
          "data": {
            "text/html": [
              "\n",
              "     <input type=\"file\" id=\"files-47231a23-4e07-44d6-a1db-3c8d35f57ee2\" name=\"files[]\" multiple disabled\n",
              "        style=\"border:none\" />\n",
              "     <output id=\"result-47231a23-4e07-44d6-a1db-3c8d35f57ee2\">\n",
              "      Upload widget is only available when the cell has been executed in the\n",
              "      current browser session. Please rerun this cell to enable.\n",
              "      </output>\n",
              "      <script src=\"/nbextensions/google.colab/files.js\"></script> "
            ],
            "text/plain": [
              "<IPython.core.display.HTML object>"
            ]
          },
          "metadata": {
            "tags": []
          }
        },
        {
          "output_type": "stream",
          "text": [
            "Saving testDataset.csv to testDataset.csv\n"
          ],
          "name": "stdout"
        }
      ]
    },
    {
      "cell_type": "code",
      "metadata": {
        "id": "i2Tq1TlAvvC7"
      },
      "source": [
        "import io\r\n",
        "test = pd.read_csv(io.BytesIO(uploaded['testDataset.csv']))"
      ],
      "execution_count": 34,
      "outputs": []
    },
    {
      "cell_type": "code",
      "metadata": {
        "id": "NMKltC6-vzQz"
      },
      "source": [
        "train = shuffle(train)\r\n",
        "test = shuffle(test)"
      ],
      "execution_count": 35,
      "outputs": []
    },
    {
      "cell_type": "code",
      "metadata": {
        "colab": {
          "base_uri": "https://localhost:8080/"
        },
        "id": "sj1KjaUfv548",
        "outputId": "bf388001-7602-4142-adca-e527cb2dab27"
      },
      "source": [
        "train.Label.value_counts()"
      ],
      "execution_count": 36,
      "outputs": [
        {
          "output_type": "execute_result",
          "data": {
            "text/plain": [
              "No Depression    1929\n",
              "Depression       1615\n",
              "Name: Label, dtype: int64"
            ]
          },
          "metadata": {
            "tags": []
          },
          "execution_count": 36
        }
      ]
    },
    {
      "cell_type": "code",
      "metadata": {
        "colab": {
          "base_uri": "https://localhost:8080/"
        },
        "id": "lL09Zbvfv6BM",
        "outputId": "35ce9320-30eb-4785-8191-f0191a793d84"
      },
      "source": [
        "test.Label.value_counts()"
      ],
      "execution_count": 37,
      "outputs": [
        {
          "output_type": "execute_result",
          "data": {
            "text/plain": [
              "No Depression    827\n",
              "Depression       693\n",
              "Name: Label, dtype: int64"
            ]
          },
          "metadata": {
            "tags": []
          },
          "execution_count": 37
        }
      ]
    },
    {
      "cell_type": "code",
      "metadata": {
        "id": "8yw1ZKWVv6Hg"
      },
      "source": [
        "train['Label_num'] = train.Label.map({'No Depression':0, 'Depression':1})\r\n",
        "test['Label_num'] = test.Label.map({'No Depression':0, 'Depression':1})"
      ],
      "execution_count": 38,
      "outputs": []
    },
    {
      "cell_type": "markdown",
      "metadata": {
        "id": "sWG2PbJyi5tz"
      },
      "source": [
        "**Training Dataset**"
      ]
    },
    {
      "cell_type": "code",
      "metadata": {
        "colab": {
          "base_uri": "https://localhost:8080/",
          "height": 402
        },
        "id": "AkFYEk4hz-tA",
        "outputId": "7d6cbbf5-b220-4429-eba2-b19e8f32fbf6"
      },
      "source": [
        "train"
      ],
      "execution_count": 39,
      "outputs": [
        {
          "output_type": "execute_result",
          "data": {
            "text/html": [
              "<div>\n",
              "<style scoped>\n",
              "    .dataframe tbody tr th:only-of-type {\n",
              "        vertical-align: middle;\n",
              "    }\n",
              "\n",
              "    .dataframe tbody tr th {\n",
              "        vertical-align: top;\n",
              "    }\n",
              "\n",
              "    .dataframe thead th {\n",
              "        text-align: right;\n",
              "    }\n",
              "</style>\n",
              "<table border=\"1\" class=\"dataframe\">\n",
              "  <thead>\n",
              "    <tr style=\"text-align: right;\">\n",
              "      <th></th>\n",
              "      <th>Tweets</th>\n",
              "      <th>Label</th>\n",
              "      <th>Label_num</th>\n",
              "    </tr>\n",
              "  </thead>\n",
              "  <tbody>\n",
              "    <tr>\n",
              "      <th>2944</th>\n",
              "      <td>Sonia Sarkar on how nationalist studies are sp...</td>\n",
              "      <td>No Depression</td>\n",
              "      <td>0</td>\n",
              "    </tr>\n",
              "    <tr>\n",
              "      <th>1607</th>\n",
              "      <td>Parents are you concerned that your teenager m...</td>\n",
              "      <td>Depression</td>\n",
              "      <td>1</td>\n",
              "    </tr>\n",
              "    <tr>\n",
              "      <th>1921</th>\n",
              "      <td>Happy belated birthday :)Another duet of you a...</td>\n",
              "      <td>No Depression</td>\n",
              "      <td>0</td>\n",
              "    </tr>\n",
              "    <tr>\n",
              "      <th>3410</th>\n",
              "      <td>Bengal looks at ways to change classification ...</td>\n",
              "      <td>No Depression</td>\n",
              "      <td>0</td>\n",
              "    </tr>\n",
              "    <tr>\n",
              "      <th>371</th>\n",
              "      <td>Vegan Emoji Cat face taste like depression and</td>\n",
              "      <td>Depression</td>\n",
              "      <td>1</td>\n",
              "    </tr>\n",
              "    <tr>\n",
              "      <th>...</th>\n",
              "      <td>...</td>\n",
              "      <td>...</td>\n",
              "      <td>...</td>\n",
              "    </tr>\n",
              "    <tr>\n",
              "      <th>669</th>\n",
              "      <td>i just told my parents about my depression and...</td>\n",
              "      <td>Depression</td>\n",
              "      <td>1</td>\n",
              "    </tr>\n",
              "    <tr>\n",
              "      <th>1789</th>\n",
              "      <td>Last retweet about happy</td>\n",
              "      <td>No Depression</td>\n",
              "      <td>0</td>\n",
              "    </tr>\n",
              "    <tr>\n",
              "      <th>1820</th>\n",
              "      <td>Hellooo.. happy  pussy (creepz_x)</td>\n",
              "      <td>No Depression</td>\n",
              "      <td>0</td>\n",
              "    </tr>\n",
              "    <tr>\n",
              "      <th>3374</th>\n",
              "      <td>and more. Also in epaper. .8</td>\n",
              "      <td>No Depression</td>\n",
              "      <td>0</td>\n",
              "    </tr>\n",
              "    <tr>\n",
              "      <th>2404</th>\n",
              "      <td>Thanks for the recent follow Happy to connect ...</td>\n",
              "      <td>No Depression</td>\n",
              "      <td>0</td>\n",
              "    </tr>\n",
              "  </tbody>\n",
              "</table>\n",
              "<p>3544 rows × 3 columns</p>\n",
              "</div>"
            ],
            "text/plain": [
              "                                                 Tweets  ... Label_num\n",
              "2944  Sonia Sarkar on how nationalist studies are sp...  ...         0\n",
              "1607  Parents are you concerned that your teenager m...  ...         1\n",
              "1921  Happy belated birthday :)Another duet of you a...  ...         0\n",
              "3410  Bengal looks at ways to change classification ...  ...         0\n",
              "371      Vegan Emoji Cat face taste like depression and  ...         1\n",
              "...                                                 ...  ...       ...\n",
              "669   i just told my parents about my depression and...  ...         1\n",
              "1789                           Last retweet about happy  ...         0\n",
              "1820                  Hellooo.. happy  pussy (creepz_x)  ...         0\n",
              "3374                       and more. Also in epaper. .8  ...         0\n",
              "2404  Thanks for the recent follow Happy to connect ...  ...         0\n",
              "\n",
              "[3544 rows x 3 columns]"
            ]
          },
          "metadata": {
            "tags": []
          },
          "execution_count": 39
        }
      ]
    },
    {
      "cell_type": "markdown",
      "metadata": {
        "id": "DTlhvpV5jI54"
      },
      "source": [
        "**Testing Dataset**"
      ]
    },
    {
      "cell_type": "code",
      "metadata": {
        "colab": {
          "base_uri": "https://localhost:8080/",
          "height": 402
        },
        "id": "YdWYAHkv0CXl",
        "outputId": "735c0df7-eefd-4b4b-f17a-2086ec472259"
      },
      "source": [
        "test"
      ],
      "execution_count": 40,
      "outputs": [
        {
          "output_type": "execute_result",
          "data": {
            "text/html": [
              "<div>\n",
              "<style scoped>\n",
              "    .dataframe tbody tr th:only-of-type {\n",
              "        vertical-align: middle;\n",
              "    }\n",
              "\n",
              "    .dataframe tbody tr th {\n",
              "        vertical-align: top;\n",
              "    }\n",
              "\n",
              "    .dataframe thead th {\n",
              "        text-align: right;\n",
              "    }\n",
              "</style>\n",
              "<table border=\"1\" class=\"dataframe\">\n",
              "  <thead>\n",
              "    <tr style=\"text-align: right;\">\n",
              "      <th></th>\n",
              "      <th>Tweets</th>\n",
              "      <th>Label</th>\n",
              "      <th>Label_num</th>\n",
              "    </tr>\n",
              "  </thead>\n",
              "  <tbody>\n",
              "    <tr>\n",
              "      <th>524</th>\n",
              "      <td>My psychology teacher assigned an essay about ...</td>\n",
              "      <td>Depression</td>\n",
              "      <td>1</td>\n",
              "    </tr>\n",
              "    <tr>\n",
              "      <th>142</th>\n",
              "      <td>Exercise can prevent depression no matter your...</td>\n",
              "      <td>Depression</td>\n",
              "      <td>1</td>\n",
              "    </tr>\n",
              "    <tr>\n",
              "      <th>559</th>\n",
              "      <td>Whatever is troubling you OPEN YOUR MOUTH PRAY...</td>\n",
              "      <td>Depression</td>\n",
              "      <td>1</td>\n",
              "    </tr>\n",
              "    <tr>\n",
              "      <th>1268</th>\n",
              "      <td>Modi as adopted son</td>\n",
              "      <td>No Depression</td>\n",
              "      <td>0</td>\n",
              "    </tr>\n",
              "    <tr>\n",
              "      <th>1194</th>\n",
              "      <td>How Centre hiked for jobs scheme by... a (and ...</td>\n",
              "      <td>No Depression</td>\n",
              "      <td>0</td>\n",
              "    </tr>\n",
              "    <tr>\n",
              "      <th>...</th>\n",
              "      <td>...</td>\n",
              "      <td>...</td>\n",
              "      <td>...</td>\n",
              "    </tr>\n",
              "    <tr>\n",
              "      <th>179</th>\n",
              "      <td>I hate feeling like I m sinking Depression suc...</td>\n",
              "      <td>Depression</td>\n",
              "      <td>1</td>\n",
              "    </tr>\n",
              "    <tr>\n",
              "      <th>152</th>\n",
              "      <td>DISCUSS 2 TYPES OF ANXIETY DISORDERS AND LIST ...</td>\n",
              "      <td>Depression</td>\n",
              "      <td>1</td>\n",
              "    </tr>\n",
              "    <tr>\n",
              "      <th>1380</th>\n",
              "      <td>LIVE: British police say there are casualties</td>\n",
              "      <td>No Depression</td>\n",
              "      <td>0</td>\n",
              "    </tr>\n",
              "    <tr>\n",
              "      <th>1292</th>\n",
              "      <td>Malala's Oxford entry</td>\n",
              "      <td>No Depression</td>\n",
              "      <td>0</td>\n",
              "    </tr>\n",
              "    <tr>\n",
              "      <th>141</th>\n",
              "      <td>ok i gotta move out of this climate here soon ...</td>\n",
              "      <td>Depression</td>\n",
              "      <td>1</td>\n",
              "    </tr>\n",
              "  </tbody>\n",
              "</table>\n",
              "<p>1520 rows × 3 columns</p>\n",
              "</div>"
            ],
            "text/plain": [
              "                                                 Tweets  ... Label_num\n",
              "524   My psychology teacher assigned an essay about ...  ...         1\n",
              "142   Exercise can prevent depression no matter your...  ...         1\n",
              "559   Whatever is troubling you OPEN YOUR MOUTH PRAY...  ...         1\n",
              "1268                                Modi as adopted son  ...         0\n",
              "1194  How Centre hiked for jobs scheme by... a (and ...  ...         0\n",
              "...                                                 ...  ...       ...\n",
              "179   I hate feeling like I m sinking Depression suc...  ...         1\n",
              "152   DISCUSS 2 TYPES OF ANXIETY DISORDERS AND LIST ...  ...         1\n",
              "1380      LIVE: British police say there are casualties  ...         0\n",
              "1292                              Malala's Oxford entry  ...         0\n",
              "141   ok i gotta move out of this climate here soon ...  ...         1\n",
              "\n",
              "[1520 rows x 3 columns]"
            ]
          },
          "metadata": {
            "tags": []
          },
          "execution_count": 40
        }
      ]
    },
    {
      "cell_type": "code",
      "metadata": {
        "id": "M6rnv7Otv6V4"
      },
      "source": [
        "x_train = train['Tweets']\r\n",
        "y_train = train['Label_num']\r\n",
        "x_test = test['Tweets']\r\n",
        "y_test = test['Label_num']"
      ],
      "execution_count": 41,
      "outputs": []
    },
    {
      "cell_type": "markdown",
      "metadata": {
        "id": "nrWNiwhajNyh"
      },
      "source": [
        "**Function to evaluate Model Performance, Average Error and Accuracy**"
      ]
    },
    {
      "cell_type": "code",
      "metadata": {
        "id": "dSm7X6C3yfH5"
      },
      "source": [
        "def evaluate(model, test_features, test_labels):\r\n",
        "    predictions = model.predict(test_features)\r\n",
        "    errors = abs(predictions - test_labels)\r\n",
        "    mape = 100 * abs(np.mean(errors / test_labels))\r\n",
        "    accuracy = metrics.accuracy_score(test_labels, predictions)\r\n",
        "    print('Model Performance')\r\n",
        "    print('Average Error: {:0.4f} degrees.'.format(np.mean(errors)))\r\n",
        "    print('Accuracy = {:0.2f}%.'.format(accuracy))\r\n",
        "\r\n",
        "    print('Exact Accuracy Value: ')\r\n",
        "    \r\n",
        "    return accuracy"
      ],
      "execution_count": 42,
      "outputs": []
    },
    {
      "cell_type": "markdown",
      "metadata": {
        "id": "21gEb3RnnGa0"
      },
      "source": [
        "# **Training**\r\n",
        "\r\n",
        "We used **Pipeline** as it assemble several steps that can be cross-validated together while setting different parameters.\r\n",
        "\r\n",
        "The **TfidfVectorizer** will tokenize documents, learn the vocabulary and inverse document frequency weightings, and allow you to encode new documents. It converts a collection of raw documents to a matrix of TF-IDF features."
      ]
    },
    {
      "cell_type": "markdown",
      "metadata": {
        "id": "OiAhWjH60INt"
      },
      "source": [
        "**Logistic Regression**"
      ]
    },
    {
      "cell_type": "code",
      "metadata": {
        "colab": {
          "base_uri": "https://localhost:8080/"
        },
        "id": "K7Ac2Z-fv6Y7",
        "outputId": "e047e66b-8078-4945-c641-ac97deb094de"
      },
      "source": [
        "pipe = Pipeline([('tfidf', TfidfVectorizer()),\r\n",
        "                 ('model', LogisticRegression())])\r\n",
        "\r\n",
        "model = pipe.fit(x_train, y_train)\r\n",
        "prediction = model.predict(x_test)\r\n",
        "print(\"accuracy: {}%\".format(round(accuracy_score(y_test, prediction)*100,4)))"
      ],
      "execution_count": 43,
      "outputs": [
        {
          "output_type": "stream",
          "text": [
            "accuracy: 96.5789%\n"
          ],
          "name": "stdout"
        }
      ]
    },
    {
      "cell_type": "markdown",
      "metadata": {
        "id": "9XDTX-Vk0NV4"
      },
      "source": [
        "**Linear SVC**"
      ]
    },
    {
      "cell_type": "code",
      "metadata": {
        "colab": {
          "base_uri": "https://localhost:8080/"
        },
        "id": "82b3mIKlv6cA",
        "outputId": "ec569044-e336-49fc-b493-143802c3c74b"
      },
      "source": [
        "pipe = Pipeline([('tfidf', TfidfVectorizer()),\r\n",
        "                 ('model', LinearSVC())])\r\n",
        "\r\n",
        "model = pipe.fit(x_train, y_train)\r\n",
        "prediction = model.predict(x_test)\r\n",
        "print(\"accuracy: {}%\".format(round(accuracy_score(y_test, prediction)*100,4)))"
      ],
      "execution_count": 44,
      "outputs": [
        {
          "output_type": "stream",
          "text": [
            "accuracy: 97.3026%\n"
          ],
          "name": "stdout"
        }
      ]
    },
    {
      "cell_type": "markdown",
      "metadata": {
        "id": "T53-UxaO0SrQ"
      },
      "source": [
        "**Multinomial Naive Bayes**"
      ]
    },
    {
      "cell_type": "code",
      "metadata": {
        "colab": {
          "base_uri": "https://localhost:8080/"
        },
        "id": "dlxBnL-wxwbK",
        "outputId": "1d96d5db-5641-4b11-8c24-3dd832b1dc8a"
      },
      "source": [
        "pipe = Pipeline([('tfidf', TfidfVectorizer()),\r\n",
        "                 ('model', MultinomialNB())])\r\n",
        "\r\n",
        "model = pipe.fit(x_train, y_train)\r\n",
        "prediction = model.predict(x_test)\r\n",
        "print(\"accuracy: {}%\".format(round(accuracy_score(y_test, prediction)*100,4)))"
      ],
      "execution_count": 45,
      "outputs": [
        {
          "output_type": "stream",
          "text": [
            "accuracy: 91.1184%\n"
          ],
          "name": "stdout"
        }
      ]
    },
    {
      "cell_type": "markdown",
      "metadata": {
        "id": "uB3dRqyr0R_P"
      },
      "source": [
        "**Bernoulli Naive Bayes**"
      ]
    },
    {
      "cell_type": "code",
      "metadata": {
        "colab": {
          "base_uri": "https://localhost:8080/"
        },
        "id": "6Vayd--Ix2fJ",
        "outputId": "20c4d407-9f01-44b9-b737-48d2e76e9483"
      },
      "source": [
        "pipe = Pipeline([('tfidf', TfidfVectorizer()),\r\n",
        "                 ('model', BernoulliNB())])\r\n",
        "\r\n",
        "model = pipe.fit(x_train, y_train)\r\n",
        "prediction = model.predict(x_test)\r\n",
        "print(\"accuracy: {}%\".format(round(accuracy_score(y_test, prediction)*100,4)))"
      ],
      "execution_count": 46,
      "outputs": [
        {
          "output_type": "stream",
          "text": [
            "accuracy: 93.75%\n"
          ],
          "name": "stdout"
        }
      ]
    },
    {
      "cell_type": "markdown",
      "metadata": {
        "id": "7eW1wcv40bjK"
      },
      "source": [
        "**Gradient Boosting Classifier**"
      ]
    },
    {
      "cell_type": "code",
      "metadata": {
        "colab": {
          "base_uri": "https://localhost:8080/"
        },
        "id": "bqUWY_1dyOYg",
        "outputId": "34ac6a7d-37f7-465b-c7b7-fd94b73aa368"
      },
      "source": [
        "pipe = Pipeline([('tfidf', TfidfVectorizer()),\r\n",
        "                 ('model', GradientBoostingClassifier(loss = 'deviance',\r\n",
        "                                                   learning_rate = 0.01,\r\n",
        "                                                   n_estimators = 10,\r\n",
        "                                                   max_depth = 5,\r\n",
        "                                                   random_state=55))])\r\n",
        "\r\n",
        "model = pipe.fit(x_train, y_train)\r\n",
        "prediction = model.predict(x_test)\r\n",
        "print(\"accuracy: {}%\".format(round(accuracy_score(y_test, prediction)*100,4)))"
      ],
      "execution_count": 47,
      "outputs": [
        {
          "output_type": "stream",
          "text": [
            "accuracy: 97.0395%\n"
          ],
          "name": "stdout"
        }
      ]
    },
    {
      "cell_type": "markdown",
      "metadata": {
        "id": "Sd7uO59B0gGF"
      },
      "source": [
        "**XBoost Classifier**"
      ]
    },
    {
      "cell_type": "code",
      "metadata": {
        "colab": {
          "base_uri": "https://localhost:8080/"
        },
        "id": "noDjYujIyR_N",
        "outputId": "54124fa7-0ac0-41ea-e3e8-21368f314886"
      },
      "source": [
        "pipe = Pipeline([('tfidf', TfidfVectorizer()),\r\n",
        "                 ('model', XGBClassifier(loss = 'deviance',\r\n",
        "                                                   learning_rate = 0.01,\r\n",
        "                                                   n_estimators = 10,\r\n",
        "                                                   max_depth = 5,\r\n",
        "                                                   random_state=2020))])\r\n",
        "\r\n",
        "model = pipe.fit(x_train, y_train)\r\n",
        "prediction = model.predict(x_test)\r\n",
        "print(\"accuracy: {}%\".format(round(accuracy_score(y_test, prediction)*100,4)))"
      ],
      "execution_count": 48,
      "outputs": [
        {
          "output_type": "stream",
          "text": [
            "accuracy: 97.2368%\n"
          ],
          "name": "stdout"
        }
      ]
    },
    {
      "cell_type": "markdown",
      "metadata": {
        "id": "frnsqnoA0piA"
      },
      "source": [
        "**Stochastic Gradient Descent**"
      ]
    },
    {
      "cell_type": "code",
      "metadata": {
        "colab": {
          "base_uri": "https://localhost:8080/"
        },
        "id": "MJzKgfJAySCT",
        "outputId": "c35822e2-3d4d-47b1-e027-486c6d4cb4f3"
      },
      "source": [
        "pipe = Pipeline([('tfidf', TfidfVectorizer()),\r\n",
        "                 ('model', SGDClassifier())])\r\n",
        "\r\n",
        "model = pipe.fit(x_train, y_train)\r\n",
        "prediction = model.predict(x_test)\r\n",
        "print(\"accuracy: {}%\".format(round(accuracy_score(y_test, prediction)*100,4)))"
      ],
      "execution_count": 49,
      "outputs": [
        {
          "output_type": "stream",
          "text": [
            "accuracy: 96.9737%\n"
          ],
          "name": "stdout"
        }
      ]
    },
    {
      "cell_type": "markdown",
      "metadata": {
        "id": "OMdHT_qR0ri7"
      },
      "source": [
        "**Decision Tree Classifier**"
      ]
    },
    {
      "cell_type": "code",
      "metadata": {
        "colab": {
          "base_uri": "https://localhost:8080/"
        },
        "id": "ZGFjGo80ySE-",
        "outputId": "9a0e27eb-b0af-401b-ec25-2a1e32fd77f2"
      },
      "source": [
        "pipe = Pipeline([('tfidf', TfidfVectorizer()),\r\n",
        "                 ('model', DecisionTreeClassifier(criterion= 'entropy',\r\n",
        "                                           max_depth = 10, \r\n",
        "                                           splitter='best', \r\n",
        "                                           random_state=2020))])\r\n",
        "\r\n",
        "model = pipe.fit(x_train, y_train)\r\n",
        "prediction = model.predict(x_test)\r\n",
        "print(\"accuracy: {}%\".format(round(accuracy_score(y_test, prediction)*100,4)))"
      ],
      "execution_count": 50,
      "outputs": [
        {
          "output_type": "stream",
          "text": [
            "accuracy: 96.6447%\n"
          ],
          "name": "stdout"
        }
      ]
    },
    {
      "cell_type": "markdown",
      "metadata": {
        "id": "kuWdbCoczuok"
      },
      "source": [
        "**Random Forest** **Classifier** "
      ]
    },
    {
      "cell_type": "code",
      "metadata": {
        "colab": {
          "base_uri": "https://localhost:8080/"
        },
        "id": "Z05j4bUhZkYF",
        "outputId": "08cfb558-d935-4e47-f0c9-58e09e6adc9e"
      },
      "source": [
        "pipe = Pipeline([('tfidf', TfidfVectorizer()),\r\n",
        "                 ('rfcRandom', RandomForestClassifier())])\r\n",
        "\r\n",
        "rfcRandom = pipe.fit(x_train, y_train)\r\n",
        "prediction = rfcRandom.predict(x_test)\r\n",
        "accuracy_score(y_test, prediction)"
      ],
      "execution_count": 53,
      "outputs": [
        {
          "output_type": "execute_result",
          "data": {
            "text/plain": [
              "0.9763157894736842"
            ]
          },
          "metadata": {
            "tags": []
          },
          "execution_count": 53
        }
      ]
    },
    {
      "cell_type": "markdown",
      "metadata": {
        "id": "h4Zpn1a0jbF3"
      },
      "source": [
        "# **Optimizaton**\r\n",
        "\r\n",
        "As we can see, Random Forest Classifier seems to be promising for higher accuracy.\r\n",
        "\r\n",
        "**Optimizing Random Forest Classifier model using Hyperparameter Tuning**"
      ]
    },
    {
      "cell_type": "code",
      "metadata": {
        "id": "cwGvsn3Wa5Mq"
      },
      "source": [
        "vec = TfidfVectorizer(use_idf=True, lowercase=True, strip_accents='ascii')\r\n",
        "trainFreq = vec.fit_transform(train['Tweets'])\r\n",
        "testFreq = vec.transform(test['Tweets'])\r\n",
        "X_train = trainFreq\r\n",
        "X_test = testFreq"
      ],
      "execution_count": 59,
      "outputs": []
    },
    {
      "cell_type": "code",
      "metadata": {
        "colab": {
          "base_uri": "https://localhost:8080/"
        },
        "id": "jBdLYHGebLID",
        "outputId": "ef68d352-9bf7-4c78-f8b6-2cb4595f90ae"
      },
      "source": [
        "rfc = RandomForestClassifier()\r\n",
        "rfc.fit(X_train, y_train)"
      ],
      "execution_count": 63,
      "outputs": [
        {
          "output_type": "execute_result",
          "data": {
            "text/plain": [
              "RandomForestClassifier(bootstrap=True, ccp_alpha=0.0, class_weight=None,\n",
              "                       criterion='gini', max_depth=None, max_features='auto',\n",
              "                       max_leaf_nodes=None, max_samples=None,\n",
              "                       min_impurity_decrease=0.0, min_impurity_split=None,\n",
              "                       min_samples_leaf=1, min_samples_split=2,\n",
              "                       min_weight_fraction_leaf=0.0, n_estimators=100,\n",
              "                       n_jobs=None, oob_score=False, random_state=None,\n",
              "                       verbose=0, warm_start=False)"
            ]
          },
          "metadata": {
            "tags": []
          },
          "execution_count": 63
        }
      ]
    },
    {
      "cell_type": "code",
      "metadata": {
        "colab": {
          "base_uri": "https://localhost:8080/"
        },
        "id": "ryH719nebWF4",
        "outputId": "c1c2aa57-44e9-4a66-a875-8d144e0e5d5b"
      },
      "source": [
        "y_predict = rfc.predict(X_test)\r\n",
        "y_predict = pd.DataFrame(y_predict)\r\n",
        "metrics.accuracy_score(y_test, y_predict)"
      ],
      "execution_count": 65,
      "outputs": [
        {
          "output_type": "execute_result",
          "data": {
            "text/plain": [
              "0.9776315789473684"
            ]
          },
          "metadata": {
            "tags": []
          },
          "execution_count": 65
        }
      ]
    },
    {
      "cell_type": "markdown",
      "metadata": {
        "id": "SNrGj87Kj5XR"
      },
      "source": [
        "# **Plotting Validation Curve**"
      ]
    },
    {
      "cell_type": "markdown",
      "metadata": {
        "id": "Y4NGcfonrjFr"
      },
      "source": [
        "**n_estimator**"
      ]
    },
    {
      "cell_type": "code",
      "metadata": {
        "id": "bS28Dhl1aHoW"
      },
      "source": [
        "parameter_range = [100, 300, 500, 750, 800, 1200]\r\n",
        "train_scoreNum, test_scoreNum = validation_curve( rfc, X = X_train, y = y_train, param_name = 'n_estimators', param_range = parameter_range, cv = 3)"
      ],
      "execution_count": 68,
      "outputs": []
    },
    {
      "cell_type": "code",
      "metadata": {
        "colab": {
          "base_uri": "https://localhost:8080/",
          "height": 297
        },
        "id": "RaLHMXqObruO",
        "outputId": "0f29b273-e3cc-474c-c56e-b2b6feae6129"
      },
      "source": [
        "mean_train_scoreNum = np.mean(train_scoreNum, axis = 1) \r\n",
        "std_train_scoreNum = np.std(train_scoreNum, axis = 1) \r\n",
        "   \r\n",
        "mean_test_scoreNum = np.mean(test_scoreNum, axis = 1) \r\n",
        "std_test_scoreNum = np.std(test_scoreNum, axis = 1) \r\n",
        "\r\n",
        "plt.plot(parameter_range, mean_train_scoreNum,  \r\n",
        "     label = \"Training Score\", color = 'b') \r\n",
        "plt.plot(parameter_range, mean_test_scoreNum, \r\n",
        "   label = \"Cross Validation Score\", color = 'g') \r\n",
        "  \r\n",
        "# Creating the plot \r\n",
        "plt.title(\"Validation Curve with Random Forest Classifier\") \r\n",
        "plt.xlabel(\"n_estimator\") \r\n",
        "plt.ylabel(\"Accuracy\") \r\n",
        "plt.tight_layout() \r\n",
        "plt.legend(loc = 'best') \r\n",
        "plt.show()"
      ],
      "execution_count": 69,
      "outputs": [
        {
          "output_type": "display_data",
          "data": {
            "image/png": "[encoded data removed]",
            "text/plain": [
              "<Figure size 432x288 with 1 Axes>"
            ]
          },
          "metadata": {
            "tags": [],
            "needs_background": "light"
          }
        }
      ]
    },
    {
      "cell_type": "markdown",
      "metadata": {
        "id": "ZBZaj-HLrmQV"
      },
      "source": [
        "**min_samples_leaf**"
      ]
    },
    {
      "cell_type": "code",
      "metadata": {
        "id": "TnUvlDoUom4O"
      },
      "source": [
        "parameter_range = [1,2,3,4,5,6,7,8,9,10]\r\n",
        "train_scoreNum, test_scoreNum = validation_curve( rfc, X = X_train, y = y_train, param_name = 'min_samples_leaf', param_range = parameter_range, cv = 3)"
      ],
      "execution_count": 80,
      "outputs": []
    },
    {
      "cell_type": "code",
      "metadata": {
        "colab": {
          "base_uri": "https://localhost:8080/",
          "height": 297
        },
        "id": "mqycQURIouYM",
        "outputId": "030afb6e-f296-4135-b5b7-3471530c4c1f"
      },
      "source": [
        "mean_train_scoreNum = np.mean(train_scoreNum, axis = 1) \r\n",
        "std_train_scoreNum = np.std(train_scoreNum, axis = 1) \r\n",
        "   \r\n",
        "mean_test_scoreNum = np.mean(test_scoreNum, axis = 1) \r\n",
        "std_test_scoreNum = np.std(test_scoreNum, axis = 1) \r\n",
        "\r\n",
        "plt.plot(parameter_range, mean_train_scoreNum,  \r\n",
        "     label = \"Training Score\", color = 'b') \r\n",
        "plt.plot(parameter_range, mean_test_scoreNum, \r\n",
        "   label = \"Cross Validation Score\", color = 'g') \r\n",
        "  \r\n",
        "# Creating the plot \r\n",
        "plt.title(\"Validation Curve with Random Forest Classifier\") \r\n",
        "plt.xlabel(\"min_samples_leaf\") \r\n",
        "plt.ylabel(\"Accuracy\") \r\n",
        "plt.tight_layout() \r\n",
        "plt.legend(loc = 'best') \r\n",
        "plt.show()"
      ],
      "execution_count": 81,
      "outputs": [
        {
          "output_type": "display_data",
          "data": {
            "image/png": "[encoded data removed]",
            "text/plain": [
              "<Figure size 432x288 with 1 Axes>"
            ]
          },
          "metadata": {
            "tags": [],
            "needs_background": "light"
          }
        }
      ]
    },
    {
      "cell_type": "markdown",
      "metadata": {
        "id": "qagS_hrTrrOz"
      },
      "source": [
        "**min_samples_split**"
      ]
    },
    {
      "cell_type": "code",
      "metadata": {
        "id": "CCyet5jho2qz"
      },
      "source": [
        "parameter_range = [2,3,4,5,6,7,8,9,10]\r\n",
        "train_scoreNum, test_scoreNum = validation_curve( rfc, X = X_train, y = y_train, param_name = 'min_samples_split', param_range = parameter_range, cv = 3)"
      ],
      "execution_count": 83,
      "outputs": []
    },
    {
      "cell_type": "code",
      "metadata": {
        "colab": {
          "base_uri": "https://localhost:8080/",
          "height": 297
        },
        "id": "xhTNTcGMo4yJ",
        "outputId": "8a857100-38a4-4a8f-93fa-f040f402fb7e"
      },
      "source": [
        "mean_train_scoreNum = np.mean(train_scoreNum, axis = 1) \r\n",
        "std_train_scoreNum = np.std(train_scoreNum, axis = 1) \r\n",
        "   \r\n",
        "mean_test_scoreNum = np.mean(test_scoreNum, axis = 1) \r\n",
        "std_test_scoreNum = np.std(test_scoreNum, axis = 1) \r\n",
        "\r\n",
        "plt.plot(parameter_range, mean_train_scoreNum,  \r\n",
        "     label = \"Training Score\", color = 'b') \r\n",
        "plt.plot(parameter_range, mean_test_scoreNum, \r\n",
        "   label = \"Cross Validation Score\", color = 'g') \r\n",
        "  \r\n",
        "# Creating the plot \r\n",
        "plt.title(\"Validation Curve with Random Forest Classifier\") \r\n",
        "plt.xlabel(\"min_samples_split\") \r\n",
        "plt.ylabel(\"Accuracy\") \r\n",
        "plt.tight_layout() \r\n",
        "plt.legend(loc = 'best') \r\n",
        "plt.show()"
      ],
      "execution_count": 84,
      "outputs": [
        {
          "output_type": "display_data",
          "data": {
            "image/png": "[encoded data removed]",
            "text/plain": [
              "<Figure size 432x288 with 1 Axes>"
            ]
          },
          "metadata": {
            "tags": [],
            "needs_background": "light"
          }
        }
      ]
    },
    {
      "cell_type": "markdown",
      "metadata": {
        "id": "gJ8xQtaSrwoH"
      },
      "source": [
        "**max_features**"
      ]
    },
    {
      "cell_type": "code",
      "metadata": {
        "id": "qNe_akAVpsQp"
      },
      "source": [
        "parameter_range = ['auto', 'sqrt']\r\n",
        "train_scoreNum, test_scoreNum = validation_curve( rfc, X = X_train, y = y_train, param_name = 'max_features', param_range = parameter_range, cv = 3)"
      ],
      "execution_count": 85,
      "outputs": []
    },
    {
      "cell_type": "code",
      "metadata": {
        "colab": {
          "base_uri": "https://localhost:8080/",
          "height": 297
        },
        "id": "-8uTBu8Up1up",
        "outputId": "dc9518a6-aa93-4953-ce8f-db0cc1980100"
      },
      "source": [
        "mean_train_scoreNum = np.mean(train_scoreNum, axis = 1) \r\n",
        "std_train_scoreNum = np.std(train_scoreNum, axis = 1) \r\n",
        "   \r\n",
        "mean_test_scoreNum = np.mean(test_scoreNum, axis = 1) \r\n",
        "std_test_scoreNum = np.std(test_scoreNum, axis = 1) \r\n",
        "\r\n",
        "plt.plot(parameter_range, mean_train_scoreNum,  \r\n",
        "     label = \"Training Score\", color = 'b') \r\n",
        "plt.plot(parameter_range, mean_test_scoreNum, \r\n",
        "   label = \"Cross Validation Score\", color = 'g') \r\n",
        "  \r\n",
        "# Creating the plot \r\n",
        "plt.title(\"Validation Curve with Random Forest Classifier\") \r\n",
        "plt.xlabel(\"max_features\") \r\n",
        "plt.ylabel(\"Accuracy\") \r\n",
        "plt.tight_layout() \r\n",
        "plt.legend(loc = 'best') \r\n",
        "plt.show()"
      ],
      "execution_count": 87,
      "outputs": [
        {
          "output_type": "display_data",
          "data": {
            "image/png": "[encoded data removed]",
            "text/plain": [
              "<Figure size 432x288 with 1 Axes>"
            ]
          },
          "metadata": {
            "tags": [],
            "needs_background": "light"
          }
        }
      ]
    },
    {
      "cell_type": "markdown",
      "metadata": {
        "id": "_j6PFcQer0id"
      },
      "source": [
        "**max_depth**"
      ]
    },
    {
      "cell_type": "code",
      "metadata": {
        "id": "va80EE3pqDCK"
      },
      "source": [
        "parameter_range = [100, 200, 300, 400, 500, 600]\r\n",
        "train_scoreNum, test_scoreNum = validation_curve( rfc, X = X_train, y = y_train, param_name = 'max_depth', param_range = parameter_range, cv = 3)"
      ],
      "execution_count": 88,
      "outputs": []
    },
    {
      "cell_type": "code",
      "metadata": {
        "colab": {
          "base_uri": "https://localhost:8080/",
          "height": 297
        },
        "id": "OlwXodKCqFWT",
        "outputId": "60cea8ba-0a6c-43d3-c24d-c489aa886ff3"
      },
      "source": [
        "mean_train_scoreNum = np.mean(train_scoreNum, axis = 1) \r\n",
        "std_train_scoreNum = np.std(train_scoreNum, axis = 1) \r\n",
        "   \r\n",
        "mean_test_scoreNum = np.mean(test_scoreNum, axis = 1) \r\n",
        "std_test_scoreNum = np.std(test_scoreNum, axis = 1) \r\n",
        "\r\n",
        "plt.plot(parameter_range, mean_train_scoreNum,  \r\n",
        "     label = \"Training Score\", color = 'b') \r\n",
        "plt.plot(parameter_range, mean_test_scoreNum, \r\n",
        "   label = \"Cross Validation Score\", color = 'g') \r\n",
        "  \r\n",
        "# Creating the plot \r\n",
        "plt.title(\"Validation Curve with Random Forest Classifier\") \r\n",
        "plt.xlabel(\"max_depth\") \r\n",
        "plt.ylabel(\"Accuracy\") \r\n",
        "plt.tight_layout() \r\n",
        "plt.legend(loc = 'best') \r\n",
        "plt.show()"
      ],
      "execution_count": 89,
      "outputs": [
        {
          "output_type": "display_data",
          "data": {
            "image/png": "[encoded data removed]",
            "text/plain": [
              "<Figure size 432x288 with 1 Axes>"
            ]
          },
          "metadata": {
            "tags": [],
            "needs_background": "light"
          }
        }
      ]
    },
    {
      "cell_type": "markdown",
      "metadata": {
        "id": "kbULX3p1r5qS"
      },
      "source": [
        "**max_leaf_nodes**"
      ]
    },
    {
      "cell_type": "code",
      "metadata": {
        "id": "BwYv8OQGqXSg"
      },
      "source": [
        "parameter_range = [100, 200, 300, 400, 500, 600]\r\n",
        "train_scoreNum, test_scoreNum = validation_curve( rfc, X = X_train, y = y_train, param_name = 'max_leaf_nodes', param_range = parameter_range, cv = 3)"
      ],
      "execution_count": 90,
      "outputs": []
    },
    {
      "cell_type": "code",
      "metadata": {
        "colab": {
          "base_uri": "https://localhost:8080/",
          "height": 297
        },
        "id": "Mh1WR_b2qelP",
        "outputId": "07e58f7f-7eaa-4ca4-bdad-36c0c9d3e14a"
      },
      "source": [
        "mean_train_scoreNum = np.mean(train_scoreNum, axis = 1) \r\n",
        "std_train_scoreNum = np.std(train_scoreNum, axis = 1) \r\n",
        "   \r\n",
        "mean_test_scoreNum = np.mean(test_scoreNum, axis = 1) \r\n",
        "std_test_scoreNum = np.std(test_scoreNum, axis = 1) \r\n",
        "\r\n",
        "plt.plot(parameter_range, mean_train_scoreNum,  \r\n",
        "     label = \"Training Score\", color = 'b') \r\n",
        "plt.plot(parameter_range, mean_test_scoreNum, \r\n",
        "   label = \"Cross Validation Score\", color = 'g') \r\n",
        "  \r\n",
        "# Creating the plot \r\n",
        "plt.title(\"Validation Curve with Random Forest Classifier\") \r\n",
        "plt.xlabel(\"max_leaf_nodes\") \r\n",
        "plt.ylabel(\"Accuracy\") \r\n",
        "plt.tight_layout() \r\n",
        "plt.legend(loc = 'best') \r\n",
        "plt.show()"
      ],
      "execution_count": 91,
      "outputs": [
        {
          "output_type": "display_data",
          "data": {
            "image/png": "[encoded data removed]",
            "text/plain": [
              "<Figure size 432x288 with 1 Axes>"
            ]
          },
          "metadata": {
            "tags": [],
            "needs_background": "light"
          }
        }
      ]
    },
    {
      "cell_type": "markdown",
      "metadata": {
        "id": "EfaEO9MLr8-O"
      },
      "source": [
        "**min_samples_leaf**"
      ]
    },
    {
      "cell_type": "code",
      "metadata": {
        "id": "MqvJitZdqnQx"
      },
      "source": [
        "parameter_range = [1, 2, 3, 4, 5, 6, 7]\r\n",
        "train_scoreNum, test_scoreNum = validation_curve( rfc, X = X_train, y = y_train, param_name = 'min_samples_leaf', param_range = parameter_range, cv = 3)"
      ],
      "execution_count": 95,
      "outputs": []
    },
    {
      "cell_type": "code",
      "metadata": {
        "colab": {
          "base_uri": "https://localhost:8080/",
          "height": 297
        },
        "id": "UdI4PN7aq2PI",
        "outputId": "1e34a31a-220c-44ce-beae-5aab3eb681a5"
      },
      "source": [
        "mean_train_scoreNum = np.mean(train_scoreNum, axis = 1) \r\n",
        "std_train_scoreNum = np.std(train_scoreNum, axis = 1) \r\n",
        "   \r\n",
        "mean_test_scoreNum = np.mean(test_scoreNum, axis = 1) \r\n",
        "std_test_scoreNum = np.std(test_scoreNum, axis = 1) \r\n",
        "\r\n",
        "plt.plot(parameter_range, mean_train_scoreNum,  \r\n",
        "     label = \"Training Score\", color = 'b') \r\n",
        "plt.plot(parameter_range, mean_test_scoreNum, \r\n",
        "   label = \"Cross Validation Score\", color = 'g') \r\n",
        "  \r\n",
        "# Creating the plot \r\n",
        "plt.title(\"Validation Curve with Random Forest Classifier\") \r\n",
        "plt.xlabel(\"min_samples_leaf\") \r\n",
        "plt.ylabel(\"Accuracy\") \r\n",
        "plt.tight_layout() \r\n",
        "plt.legend(loc = 'best') \r\n",
        "plt.show()"
      ],
      "execution_count": 96,
      "outputs": [
        {
          "output_type": "display_data",
          "data": {
            "image/png": "[encoded data removed]",
            "text/plain": [
              "<Figure size 432x288 with 1 Axes>"
            ]
          },
          "metadata": {
            "tags": [],
            "needs_background": "light"
          }
        }
      ]
    },
    {
      "cell_type": "markdown",
      "metadata": {
        "id": "gsXwmQh0kBgx"
      },
      "source": [
        "# **Using RandomizedSearchCV for optimization**\r\n",
        "\r\n",
        "Using Scikit-Learn’s RandomizedSearchCV method, we can define a grid of hyperparameter ranges, and randomly sample from the grid, performing K-Fold CV with each combination of values."
      ]
    },
    {
      "cell_type": "code",
      "metadata": {
        "colab": {
          "base_uri": "https://localhost:8080/"
        },
        "id": "0RXDp2IlbweH",
        "outputId": "f990a1ca-8b1a-4662-d034-37ca5eb826ff"
      },
      "source": [
        "n_estimators = [int(x) for x in np.linspace(start = 200, stop = 2000, num = 10)]\r\n",
        "max_features = ['auto', 'sqrt']\r\n",
        "max_depth = [ int(x) for x in np.linspace(10, 110, num = 11)]\r\n",
        "max_depth.append(None)\r\n",
        "min_samples_split = [2, 5, 10, 15, 100]\r\n",
        "min_samples_leaf = [1, 2, 4, 5, 10]\r\n",
        "bootstrap = [True, False]\r\n",
        "\r\n",
        "random_grid = {'n_estimators': n_estimators,\r\n",
        "               'max_features': max_features,\r\n",
        "               'max_depth': max_depth,\r\n",
        "               'min_samples_split': min_samples_split,\r\n",
        "               'min_samples_leaf': min_samples_leaf,\r\n",
        "               'bootstrap': bootstrap}\r\n",
        "print(random_grid)"
      ],
      "execution_count": 70,
      "outputs": [
        {
          "output_type": "stream",
          "text": [
            "{'n_estimators': [200, 400, 600, 800, 1000, 1200, 1400, 1600, 1800, 2000], 'max_features': ['auto', 'sqrt'], 'max_depth': [10, 20, 30, 40, 50, 60, 70, 80, 90, 100, 110, None], 'min_samples_split': [2, 5, 10, 15, 100], 'min_samples_leaf': [1, 2, 4, 5, 10], 'bootstrap': [True, False]}\n"
          ],
          "name": "stdout"
        }
      ]
    },
    {
      "cell_type": "code",
      "metadata": {
        "id": "IDRKQ4UXbzWy"
      },
      "source": [
        "rf = RandomForestClassifier()\r\n",
        "rf_random = RandomizedSearchCV(estimator = rf, param_distributions = random_grid, n_iter = 100, cv = 3, verbose=2, random_state=42, n_jobs = -1)"
      ],
      "execution_count": 71,
      "outputs": []
    },
    {
      "cell_type": "code",
      "metadata": {
        "colab": {
          "base_uri": "https://localhost:8080/"
        },
        "id": "ZhhGanmKb5ya",
        "outputId": "5eb69726-51b5-4aba-cd49-11c7175f1689"
      },
      "source": [
        "rf_random.fit(X_train, y_train)"
      ],
      "execution_count": 73,
      "outputs": [
        {
          "output_type": "stream",
          "text": [
            "Fitting 3 folds for each of 100 candidates, totalling 300 fits\n"
          ],
          "name": "stdout"
        },
        {
          "output_type": "stream",
          "text": [
            "[Parallel(n_jobs=-1)]: Using backend LokyBackend with 2 concurrent workers.\n",
            "[Parallel(n_jobs=-1)]: Done  37 tasks      | elapsed:  3.6min\n",
            "[Parallel(n_jobs=-1)]: Done 158 tasks      | elapsed: 20.1min\n",
            "[Parallel(n_jobs=-1)]: Done 300 out of 300 | elapsed: 40.4min finished\n"
          ],
          "name": "stderr"
        },
        {
          "output_type": "execute_result",
          "data": {
            "text/plain": [
              "RandomizedSearchCV(cv=3, error_score=nan,\n",
              "                   estimator=RandomForestClassifier(bootstrap=True,\n",
              "                                                    ccp_alpha=0.0,\n",
              "                                                    class_weight=None,\n",
              "                                                    criterion='gini',\n",
              "                                                    max_depth=None,\n",
              "                                                    max_features='auto',\n",
              "                                                    max_leaf_nodes=None,\n",
              "                                                    max_samples=None,\n",
              "                                                    min_impurity_decrease=0.0,\n",
              "                                                    min_impurity_split=None,\n",
              "                                                    min_samples_leaf=1,\n",
              "                                                    min_samples_split=2,\n",
              "                                                    min_weight_fraction_leaf=0.0,\n",
              "                                                    n_estimators=100,\n",
              "                                                    n_jobs...\n",
              "                   param_distributions={'bootstrap': [True, False],\n",
              "                                        'max_depth': [10, 20, 30, 40, 50, 60,\n",
              "                                                      70, 80, 90, 100, 110,\n",
              "                                                      None],\n",
              "                                        'max_features': ['auto', 'sqrt'],\n",
              "                                        'min_samples_leaf': [1, 2, 4, 5, 10],\n",
              "                                        'min_samples_split': [2, 5, 10, 15,\n",
              "                                                              100],\n",
              "                                        'n_estimators': [200, 400, 600, 800,\n",
              "                                                         1000, 1200, 1400, 1600,\n",
              "                                                         1800, 2000]},\n",
              "                   pre_dispatch='2*n_jobs', random_state=42, refit=True,\n",
              "                   return_train_score=False, scoring=None, verbose=2)"
            ]
          },
          "metadata": {
            "tags": []
          },
          "execution_count": 73
        }
      ]
    },
    {
      "cell_type": "code",
      "metadata": {
        "colab": {
          "base_uri": "https://localhost:8080/"
        },
        "id": "ZnUtSHSXb8ae",
        "outputId": "22155911-f504-4c20-ad11-47df4c102991"
      },
      "source": [
        "rf_random.best_params_"
      ],
      "execution_count": 74,
      "outputs": [
        {
          "output_type": "execute_result",
          "data": {
            "text/plain": [
              "{'bootstrap': False,\n",
              " 'max_depth': 110,\n",
              " 'max_features': 'auto',\n",
              " 'min_samples_leaf': 1,\n",
              " 'min_samples_split': 5,\n",
              " 'n_estimators': 1400}"
            ]
          },
          "metadata": {
            "tags": []
          },
          "execution_count": 74
        }
      ]
    },
    {
      "cell_type": "markdown",
      "metadata": {
        "id": "mCvF6jtOklUR"
      },
      "source": [
        "# **Re-training the model using optimized parameters.**"
      ]
    },
    {
      "cell_type": "code",
      "metadata": {
        "colab": {
          "base_uri": "https://localhost:8080/"
        },
        "id": "ROZZfcaEmE-E",
        "outputId": "a46b45f4-ecc0-4365-d214-878348b9ab1c"
      },
      "source": [
        "pipe = Pipeline([('tfidf', TfidfVectorizer()),\r\n",
        "                 ('rfcRandom', RandomForestClassifier(bootstrap = False,\r\n",
        " max_depth = 110,\r\n",
        " max_features = 'auto',\r\n",
        " min_samples_leaf = 1,\r\n",
        " min_samples_split = 5,\r\n",
        " n_estimators = 1400))])\r\n",
        "\r\n",
        "rfcRandom = pipe.fit(x_train, y_train)\r\n",
        "prediction = rfcRandom.predict(x_test)\r\n",
        "accuracy_score(y_test, prediction)"
      ],
      "execution_count": 75,
      "outputs": [
        {
          "output_type": "execute_result",
          "data": {
            "text/plain": [
              "0.9782894736842105"
            ]
          },
          "metadata": {
            "tags": []
          },
          "execution_count": 75
        }
      ]
    },
    {
      "cell_type": "markdown",
      "metadata": {
        "id": "_0L2PXSgk4fJ"
      },
      "source": [
        "# **Overall Model Performance**"
      ]
    },
    {
      "cell_type": "code",
      "metadata": {
        "colab": {
          "base_uri": "https://localhost:8080/"
        },
        "id": "XNpdxiTN9XyP",
        "outputId": "0cc08553-1685-4ad2-eaa2-7ec6c919c15f"
      },
      "source": [
        "evaluate(rfcRandom, x_test, y_test)"
      ],
      "execution_count": null,
      "outputs": [
        {
          "output_type": "stream",
          "text": [
            "Model Performance\n",
            "Average Error: 0.0217 degrees.\n",
            "Accuracy = 0.98%.\n",
            "Exact Accuracy Value: \n"
          ],
          "name": "stdout"
        },
        {
          "output_type": "execute_result",
          "data": {
            "text/plain": [
              "0.9782894736842105"
            ]
          },
          "metadata": {
            "tags": []
          },
          "execution_count": 17
        }
      ]
    }
  ]
}